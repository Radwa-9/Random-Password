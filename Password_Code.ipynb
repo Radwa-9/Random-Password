{
  "nbformat": 4,
  "nbformat_minor": 0,
  "metadata": {
    "colab": {
      "provenance": []
    },
    "kernelspec": {
      "name": "python3",
      "display_name": "Python 3"
    },
    "language_info": {
      "name": "python"
    }
  },
  "cells": [
    {
      "cell_type": "code",
      "execution_count": 1,
      "metadata": {
        "colab": {
          "base_uri": "https://localhost:8080/"
        },
        "id": "qUrlmGl-Xl7o",
        "outputId": "9ea29c54-777f-48af-c47a-72ddd455858f"
      },
      "outputs": [
        {
          "output_type": "stream",
          "name": "stdout",
          "text": [
            "Hello\n",
            "Enter your password number here with a minimum of 8 and a maximum of 16: 17\n",
            "Please enter a valid number\n",
            "Enter your password number here with a minimum of 8 and a maximum of 16:  \n",
            "Please enter a valid number\n",
            "Enter your password number here with a minimum of 8 and a maximum of 16: j\n",
            "Please enter a valid number\n",
            "Enter your password number here with a minimum of 8 and a maximum of 16: 14\n",
            "Here is your password:  B\\(I63f<[g&Lbz\n"
          ]
        }
      ],
      "source": [
        "import random                  \n",
        "import string\n",
        "print(\"Hello\")\n",
        "\n",
        "#to insure that the length of the password won't be more than 16 and not less than 8\n",
        "#the program will continue looping until the user enter a valid number\n",
        "while True:\n",
        "  len = input(\"Enter your password number here with a minimum of 8 and a maximum of 16: \")\n",
        "  if len.isdigit() and (7<int(len)<17):\n",
        "    len = int(len)\n",
        "    break\n",
        "  print('Please enter a valid number')\n",
        "\n",
        "#creating a list for the required elements in the password then creating another list for the remaining characters\n",
        "characters=[string.ascii_letters.lower() , string.ascii_letters.upper() , string.digits , string.punctuation]\n",
        "remaining_chr=list(string.punctuation+string.digits+string.ascii_letters.upper()+string.ascii_letters.lower())\n",
        "password = []\n",
        "\n",
        "#choosing a random element from each list from the above lists to ensure that each password will at least contain one of them\n",
        "#remove the chosen elements from the remaining_chr list to prevent the repetition of them in the password generated\n",
        "for i in range(4):\n",
        "  chr = random.sample(characters[i], 1)\n",
        "  password.append(chr[0])\n",
        "  remaining_chr.remove(chr[0])\n",
        "\n",
        "\n",
        "#generate the rest of the password and shuffling it\n",
        "password += random.sample(remaining_chr, len - 4)\n",
        "random.shuffle(password)\n",
        "password = \"\".join(password)\n",
        "\n",
        "print(\"Here is your password: \", password)"
      ]
    },
    {
      "cell_type": "code",
      "source": [],
      "metadata": {
        "id": "hZmbga-VXqEi"
      },
      "execution_count": null,
      "outputs": []
    }
  ]
}